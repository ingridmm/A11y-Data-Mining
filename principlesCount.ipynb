{
  "cells": [
    {
      "cell_type": "code",
      "execution_count": 2,
      "metadata": {
        "colab": {
          "base_uri": "https://localhost:8080/",
          "height": 345
        },
        "id": "F_VXFKj_O_yD",
        "outputId": "ed224679-4061-4d31-a92b-cc5b10158ba6"
      },
      "outputs": [],
      "source": [
        "import pandas as pd\n",
        "data = pd.read_csv('csv_final_principios - csv_final.csv')"
      ]
    },
    {
      "cell_type": "code",
      "execution_count": 3,
      "metadata": {
        "colab": {
          "base_uri": "https://localhost:8080/",
          "height": 165
        },
        "id": "g3YWalW7QFDi",
        "outputId": "56e19af1-3ad5-43d1-c42e-e2882f66d7b1"
      },
      "outputs": [
        {
          "data": {
            "text/html": [
              "<div>\n",
              "<style scoped>\n",
              "    .dataframe tbody tr th:only-of-type {\n",
              "        vertical-align: middle;\n",
              "    }\n",
              "\n",
              "    .dataframe tbody tr th {\n",
              "        vertical-align: top;\n",
              "    }\n",
              "\n",
              "    .dataframe thead th {\n",
              "        text-align: right;\n",
              "    }\n",
              "</style>\n",
              "<table border=\"1\" class=\"dataframe\">\n",
              "  <thead>\n",
              "    <tr style=\"text-align: right;\">\n",
              "      <th></th>\n",
              "      <th>type</th>\n",
              "      <th>code</th>\n",
              "      <th>Princípio</th>\n",
              "      <th>message</th>\n",
              "      <th>context</th>\n",
              "      <th>selector\"</th>\n",
              "    </tr>\n",
              "  </thead>\n",
              "  <tbody>\n",
              "    <tr>\n",
              "      <th>0</th>\n",
              "      <td>error</td>\n",
              "      <td>WCAG2AA.Principle2.Guideline2_4.2_4_2.H25.1.No...</td>\n",
              "      <td>Operável</td>\n",
              "      <td>A title should be provided for the document, u...</td>\n",
              "      <td>&lt;head&gt;&lt;style type=\\\"text/css\\\"&gt;\\n\\nbody {...&lt;/...</td>\n",
              "      <td>html &gt; head\"</td>\n",
              "    </tr>\n",
              "    <tr>\n",
              "      <th>1</th>\n",
              "      <td>error</td>\n",
              "      <td>WCAG2AA.Principle3.Guideline3_1.3_1_1.H57.2</td>\n",
              "      <td>Compreensível</td>\n",
              "      <td>The html element should have a lang or xml:lan...</td>\n",
              "      <td>&lt;html&gt;&lt;head&gt;&lt;style type=\\\"text/css\\\"&gt;\\n\\n...&lt;/...</td>\n",
              "      <td>html\"</td>\n",
              "    </tr>\n",
              "    <tr>\n",
              "      <th>2</th>\n",
              "      <td>error</td>\n",
              "      <td>WCAG2AA.Principle2.Guideline2_4.2_4_2.H25.1.No...</td>\n",
              "      <td>Operável</td>\n",
              "      <td>A title should be provided for the document, u...</td>\n",
              "      <td>&lt;head&gt;\\n&lt;style&gt;\\ntable{\\n    height:100v...&lt;/h...</td>\n",
              "      <td>html &gt; head\"</td>\n",
              "    </tr>\n",
              "    <tr>\n",
              "      <th>3</th>\n",
              "      <td>error</td>\n",
              "      <td>WCAG2AA.Principle3.Guideline3_1.3_1_1.H57.2</td>\n",
              "      <td>Compreensível</td>\n",
              "      <td>The html element should have a lang or xml:lan...</td>\n",
              "      <td>&lt;html&gt;&lt;head&gt;\\n&lt;style&gt;\\ntable{\\n    heigh...&lt;/h...</td>\n",
              "      <td>html\"</td>\n",
              "    </tr>\n",
              "    <tr>\n",
              "      <th>4</th>\n",
              "      <td>error</td>\n",
              "      <td>WCAG2AA.Principle2.Guideline2_4.2_4_2.H25.1.No...</td>\n",
              "      <td>Operável</td>\n",
              "      <td>A title should be provided for the document, u...</td>\n",
              "      <td>&lt;head&gt;\\n&lt;script src=\\\"https://cdnjs.clo...&lt;/head&gt;</td>\n",
              "      <td>html &gt; head\"</td>\n",
              "    </tr>\n",
              "    <tr>\n",
              "      <th>5</th>\n",
              "      <td>error</td>\n",
              "      <td>WCAG2AA.Principle1.Guideline1_4.1_4_3.G18.Fail</td>\n",
              "      <td>Perceptível</td>\n",
              "      <td>This element has insufficient contrast at this...</td>\n",
              "      <td>&lt;span style=\\\"font-size: 1.1em; font-weight: b...</td>\n",
              "      <td>#google-visualization-errors-0 &gt; span &gt; span\"</td>\n",
              "    </tr>\n",
              "  </tbody>\n",
              "</table>\n",
              "</div>"
            ],
            "text/plain": [
              "    type                                               code      Princípio  \\\n",
              "0  error  WCAG2AA.Principle2.Guideline2_4.2_4_2.H25.1.No...       Operável   \n",
              "1  error        WCAG2AA.Principle3.Guideline3_1.3_1_1.H57.2  Compreensível   \n",
              "2  error  WCAG2AA.Principle2.Guideline2_4.2_4_2.H25.1.No...       Operável   \n",
              "3  error        WCAG2AA.Principle3.Guideline3_1.3_1_1.H57.2  Compreensível   \n",
              "4  error  WCAG2AA.Principle2.Guideline2_4.2_4_2.H25.1.No...       Operável   \n",
              "5  error     WCAG2AA.Principle1.Guideline1_4.1_4_3.G18.Fail    Perceptível   \n",
              "\n",
              "                                             message  \\\n",
              "0  A title should be provided for the document, u...   \n",
              "1  The html element should have a lang or xml:lan...   \n",
              "2  A title should be provided for the document, u...   \n",
              "3  The html element should have a lang or xml:lan...   \n",
              "4  A title should be provided for the document, u...   \n",
              "5  This element has insufficient contrast at this...   \n",
              "\n",
              "                                             context  \\\n",
              "0  <head><style type=\\\"text/css\\\">\\n\\nbody {...</...   \n",
              "1  <html><head><style type=\\\"text/css\\\">\\n\\n...</...   \n",
              "2  <head>\\n<style>\\ntable{\\n    height:100v...</h...   \n",
              "3  <html><head>\\n<style>\\ntable{\\n    heigh...</h...   \n",
              "4  <head>\\n<script src=\\\"https://cdnjs.clo...</head>   \n",
              "5  <span style=\\\"font-size: 1.1em; font-weight: b...   \n",
              "\n",
              "                                       selector\"  \n",
              "0                                   html > head\"  \n",
              "1                                          html\"  \n",
              "2                                   html > head\"  \n",
              "3                                          html\"  \n",
              "4                                   html > head\"  \n",
              "5  #google-visualization-errors-0 > span > span\"  "
            ]
          },
          "execution_count": 3,
          "metadata": {},
          "output_type": "execute_result"
        }
      ],
      "source": [
        "data.head(6)"
      ]
    },
    {
      "cell_type": "code",
      "execution_count": 4,
      "metadata": {
        "colab": {
          "base_uri": "https://localhost:8080/",
          "height": 235
        },
        "id": "OgwCYTLkQYiV",
        "outputId": "a64459b3-b000-4819-9a19-aeb8c7ba12f1"
      },
      "outputs": [],
      "source": [
        "dataPrinciples_count = (\n",
        "    data\n",
        "    .groupby('Princípio')\n",
        "    .size()\n",
        "    .reset_index(name='count')\n",
        "    .sort_values(by=['count'], ascending=False)\n",
        ")"
      ]
    },
    {
      "cell_type": "code",
      "execution_count": 5,
      "metadata": {
        "id": "XWX5Z1zHQeyN"
      },
      "outputs": [
        {
          "data": {
            "text/html": [
              "<div>\n",
              "<style scoped>\n",
              "    .dataframe tbody tr th:only-of-type {\n",
              "        vertical-align: middle;\n",
              "    }\n",
              "\n",
              "    .dataframe tbody tr th {\n",
              "        vertical-align: top;\n",
              "    }\n",
              "\n",
              "    .dataframe thead th {\n",
              "        text-align: right;\n",
              "    }\n",
              "</style>\n",
              "<table border=\"1\" class=\"dataframe\">\n",
              "  <thead>\n",
              "    <tr style=\"text-align: right;\">\n",
              "      <th></th>\n",
              "      <th>Princípio</th>\n",
              "      <th>count</th>\n",
              "    </tr>\n",
              "  </thead>\n",
              "  <tbody>\n",
              "    <tr>\n",
              "      <th>2</th>\n",
              "      <td>Perceptível</td>\n",
              "      <td>198</td>\n",
              "    </tr>\n",
              "    <tr>\n",
              "      <th>3</th>\n",
              "      <td>Robustez</td>\n",
              "      <td>170</td>\n",
              "    </tr>\n",
              "    <tr>\n",
              "      <th>1</th>\n",
              "      <td>Operável</td>\n",
              "      <td>164</td>\n",
              "    </tr>\n",
              "    <tr>\n",
              "      <th>0</th>\n",
              "      <td>Compreensível</td>\n",
              "      <td>65</td>\n",
              "    </tr>\n",
              "  </tbody>\n",
              "</table>\n",
              "</div>"
            ],
            "text/plain": [
              "       Princípio  count\n",
              "2    Perceptível    198\n",
              "3       Robustez    170\n",
              "1       Operável    164\n",
              "0  Compreensível     65"
            ]
          },
          "execution_count": 5,
          "metadata": {},
          "output_type": "execute_result"
        }
      ],
      "source": [
        "dataPrinciples_count"
      ]
    },
    {
      "cell_type": "code",
      "execution_count": 15,
      "metadata": {},
      "outputs": [
        {
          "data": {
            "text/plain": [
              "149.25"
            ]
          },
          "execution_count": 15,
          "metadata": {},
          "output_type": "execute_result"
        }
      ],
      "source": [
        "import statistics as st\n",
        "data_media = [198, 170, 164, 65]\n",
        "st.mean(data_media)"
      ]
    },
    {
      "cell_type": "code",
      "execution_count": 25,
      "metadata": {},
      "outputs": [
        {
          "name": "stdout",
          "output_type": "stream",
          "text": [
            "Porcentagem de violação por Perceptivel: 27.470686767169177 %\n"
          ]
        }
      ],
      "source": [
        "def main():\n",
        "  violacao = 597.0\n",
        "  principio = 164.0\n",
        "  \n",
        "  print(\"Porcentagem de violação por Perceptivel:\", \n",
        "    ((principio / violacao) * 100) ,\"%\")\n",
        "  \n",
        "     \n",
        "if __name__== \"__main__\":\n",
        "  main()"
      ]
    },
    {
      "cell_type": "code",
      "execution_count": 6,
      "metadata": {
        "id": "o7EKvplamGMG"
      },
      "outputs": [],
      "source": [
        "dataCode_count = (\n",
        "    data\n",
        "    .groupby('code')\n",
        "    .size()\n",
        "    .reset_index(name='count')\n",
        "    .sort_values(by=['count'], ascending=False)\n",
        ")"
      ]
    },
    {
      "cell_type": "code",
      "execution_count": 7,
      "metadata": {
        "id": "jyDc4aCzmOMJ"
      },
      "outputs": [
        {
          "data": {
            "text/html": [
              "<div>\n",
              "<style scoped>\n",
              "    .dataframe tbody tr th:only-of-type {\n",
              "        vertical-align: middle;\n",
              "    }\n",
              "\n",
              "    .dataframe tbody tr th {\n",
              "        vertical-align: top;\n",
              "    }\n",
              "\n",
              "    .dataframe thead th {\n",
              "        text-align: right;\n",
              "    }\n",
              "</style>\n",
              "<table border=\"1\" class=\"dataframe\">\n",
              "  <thead>\n",
              "    <tr style=\"text-align: right;\">\n",
              "      <th></th>\n",
              "      <th>code</th>\n",
              "      <th>count</th>\n",
              "    </tr>\n",
              "  </thead>\n",
              "  <tbody>\n",
              "    <tr>\n",
              "      <th>15</th>\n",
              "      <td>WCAG2AA.Principle2.Guideline2_4.2_4_2.H25.1.No...</td>\n",
              "      <td>138</td>\n",
              "    </tr>\n",
              "    <tr>\n",
              "      <th>1</th>\n",
              "      <td>WCAG2AA.Principle1.Guideline1_1.1_1_1.H37</td>\n",
              "      <td>72</td>\n",
              "    </tr>\n",
              "    <tr>\n",
              "      <th>3</th>\n",
              "      <td>WCAG2AA.Principle1.Guideline1_3.1_3_1.F68</td>\n",
              "      <td>68</td>\n",
              "    </tr>\n",
              "    <tr>\n",
              "      <th>16</th>\n",
              "      <td>WCAG2AA.Principle3.Guideline3_1.3_1_1.H57.2</td>\n",
              "      <td>54</td>\n",
              "    </tr>\n",
              "    <tr>\n",
              "      <th>18</th>\n",
              "      <td>WCAG2AA.Principle4.Guideline4_1.4_1_1.F77</td>\n",
              "      <td>38</td>\n",
              "    </tr>\n",
              "    <tr>\n",
              "      <th>11</th>\n",
              "      <td>WCAG2AA.Principle1.Guideline1_4.1_4_3.G18.Fail</td>\n",
              "      <td>38</td>\n",
              "    </tr>\n",
              "    <tr>\n",
              "      <th>35</th>\n",
              "      <td>WCAG2AA.Principle4.Guideline4_1.4_1_2.H91.Inpu...</td>\n",
              "      <td>37</td>\n",
              "    </tr>\n",
              "    <tr>\n",
              "      <th>12</th>\n",
              "      <td>WCAG2AA.Principle2.Guideline2_4.2_4_1.G1,G123,...</td>\n",
              "      <td>20</td>\n",
              "    </tr>\n",
              "    <tr>\n",
              "      <th>36</th>\n",
              "      <td>WCAG2AA.Principle4.Guideline4_1.4_1_2.H91.Sele...</td>\n",
              "      <td>18</td>\n",
              "    </tr>\n",
              "    <tr>\n",
              "      <th>21</th>\n",
              "      <td>WCAG2AA.Principle4.Guideline4_1.4_1_2.H91.Butt...</td>\n",
              "      <td>15</td>\n",
              "    </tr>\n",
              "    <tr>\n",
              "      <th>30</th>\n",
              "      <td>WCAG2AA.Principle4.Guideline4_1.4_1_2.H91.Inpu...</td>\n",
              "      <td>12</td>\n",
              "    </tr>\n",
              "    <tr>\n",
              "      <th>17</th>\n",
              "      <td>WCAG2AA.Principle3.Guideline3_2.3_2_2.H32.2</td>\n",
              "      <td>11</td>\n",
              "    </tr>\n",
              "    <tr>\n",
              "      <th>37</th>\n",
              "      <td>WCAG2AA.Principle4.Guideline4_1.4_1_2.H91.Text...</td>\n",
              "      <td>8</td>\n",
              "    </tr>\n",
              "    <tr>\n",
              "      <th>29</th>\n",
              "      <td>WCAG2AA.Principle4.Guideline4_1.4_1_2.H91.Inpu...</td>\n",
              "      <td>8</td>\n",
              "    </tr>\n",
              "    <tr>\n",
              "      <th>20</th>\n",
              "      <td>WCAG2AA.Principle4.Guideline4_1.4_1_2.H91.A.No...</td>\n",
              "      <td>6</td>\n",
              "    </tr>\n",
              "    <tr>\n",
              "      <th>32</th>\n",
              "      <td>WCAG2AA.Principle4.Guideline4_1.4_1_2.H91.Inpu...</td>\n",
              "      <td>5</td>\n",
              "    </tr>\n",
              "    <tr>\n",
              "      <th>22</th>\n",
              "      <td>WCAG2AA.Principle4.Guideline4_1.4_1_2.H91.Fiel...</td>\n",
              "      <td>4</td>\n",
              "    </tr>\n",
              "    <tr>\n",
              "      <th>28</th>\n",
              "      <td>WCAG2AA.Principle4.Guideline4_1.4_1_2.H91.Inpu...</td>\n",
              "      <td>4</td>\n",
              "    </tr>\n",
              "    <tr>\n",
              "      <th>9</th>\n",
              "      <td>WCAG2AA.Principle1.Guideline1_3.1_3_1.H71.NoLe...</td>\n",
              "      <td>4</td>\n",
              "    </tr>\n",
              "    <tr>\n",
              "      <th>7</th>\n",
              "      <td>WCAG2AA.Principle1.Guideline1_3.1_3_1.H49.Alig...</td>\n",
              "      <td>4</td>\n",
              "    </tr>\n",
              "    <tr>\n",
              "      <th>33</th>\n",
              "      <td>WCAG2AA.Principle4.Guideline4_1.4_1_2.H91.Inpu...</td>\n",
              "      <td>3</td>\n",
              "    </tr>\n",
              "    <tr>\n",
              "      <th>0</th>\n",
              "      <td>WCAG2AA.Principle1.Guideline1_1.1_1_1.H30.2</td>\n",
              "      <td>3</td>\n",
              "    </tr>\n",
              "    <tr>\n",
              "      <th>14</th>\n",
              "      <td>WCAG2AA.Principle2.Guideline2_4.2_4_2.H25.1.Em...</td>\n",
              "      <td>3</td>\n",
              "    </tr>\n",
              "    <tr>\n",
              "      <th>23</th>\n",
              "      <td>WCAG2AA.Principle4.Guideline4_1.4_1_2.H91.Inpu...</td>\n",
              "      <td>2</td>\n",
              "    </tr>\n",
              "    <tr>\n",
              "      <th>26</th>\n",
              "      <td>WCAG2AA.Principle4.Guideline4_1.4_1_2.H91.Inpu...</td>\n",
              "      <td>2</td>\n",
              "    </tr>\n",
              "    <tr>\n",
              "      <th>10</th>\n",
              "      <td>WCAG2AA.Principle1.Guideline1_4.1_4_3.G145.Fail</td>\n",
              "      <td>2</td>\n",
              "    </tr>\n",
              "    <tr>\n",
              "      <th>8</th>\n",
              "      <td>WCAG2AA.Principle1.Guideline1_3.1_3_1.H49.Center</td>\n",
              "      <td>2</td>\n",
              "    </tr>\n",
              "    <tr>\n",
              "      <th>6</th>\n",
              "      <td>WCAG2AA.Principle1.Guideline1_3.1_3_1.H43.Head...</td>\n",
              "      <td>2</td>\n",
              "    </tr>\n",
              "    <tr>\n",
              "      <th>5</th>\n",
              "      <td>WCAG2AA.Principle1.Guideline1_3.1_3_1.H43,H63</td>\n",
              "      <td>2</td>\n",
              "    </tr>\n",
              "    <tr>\n",
              "      <th>34</th>\n",
              "      <td>WCAG2AA.Principle4.Guideline4_1.4_1_2.H91.Inpu...</td>\n",
              "      <td>2</td>\n",
              "    </tr>\n",
              "    <tr>\n",
              "      <th>2</th>\n",
              "      <td>WCAG2AA.Principle1.Guideline1_1.1_1_1.H67.1</td>\n",
              "      <td>2</td>\n",
              "    </tr>\n",
              "    <tr>\n",
              "      <th>19</th>\n",
              "      <td>WCAG2AA.Principle4.Guideline4_1.4_1_2.H91.A.Em...</td>\n",
              "      <td>2</td>\n",
              "    </tr>\n",
              "    <tr>\n",
              "      <th>24</th>\n",
              "      <td>WCAG2AA.Principle4.Guideline4_1.4_1_2.H91.Inpu...</td>\n",
              "      <td>1</td>\n",
              "    </tr>\n",
              "    <tr>\n",
              "      <th>25</th>\n",
              "      <td>WCAG2AA.Principle4.Guideline4_1.4_1_2.H91.Inpu...</td>\n",
              "      <td>1</td>\n",
              "    </tr>\n",
              "    <tr>\n",
              "      <th>27</th>\n",
              "      <td>WCAG2AA.Principle4.Guideline4_1.4_1_2.H91.Inpu...</td>\n",
              "      <td>1</td>\n",
              "    </tr>\n",
              "    <tr>\n",
              "      <th>13</th>\n",
              "      <td>WCAG2AA.Principle2.Guideline2_4.2_4_1.H64.1</td>\n",
              "      <td>1</td>\n",
              "    </tr>\n",
              "    <tr>\n",
              "      <th>31</th>\n",
              "      <td>WCAG2AA.Principle4.Guideline4_1.4_1_2.H91.Inpu...</td>\n",
              "      <td>1</td>\n",
              "    </tr>\n",
              "    <tr>\n",
              "      <th>4</th>\n",
              "      <td>WCAG2AA.Principle1.Guideline1_3.1_3_1.H42.2</td>\n",
              "      <td>1</td>\n",
              "    </tr>\n",
              "  </tbody>\n",
              "</table>\n",
              "</div>"
            ],
            "text/plain": [
              "                                                 code  count\n",
              "15  WCAG2AA.Principle2.Guideline2_4.2_4_2.H25.1.No...    138\n",
              "1           WCAG2AA.Principle1.Guideline1_1.1_1_1.H37     72\n",
              "3           WCAG2AA.Principle1.Guideline1_3.1_3_1.F68     68\n",
              "16        WCAG2AA.Principle3.Guideline3_1.3_1_1.H57.2     54\n",
              "18          WCAG2AA.Principle4.Guideline4_1.4_1_1.F77     38\n",
              "11     WCAG2AA.Principle1.Guideline1_4.1_4_3.G18.Fail     38\n",
              "35  WCAG2AA.Principle4.Guideline4_1.4_1_2.H91.Inpu...     37\n",
              "12  WCAG2AA.Principle2.Guideline2_4.2_4_1.G1,G123,...     20\n",
              "36  WCAG2AA.Principle4.Guideline4_1.4_1_2.H91.Sele...     18\n",
              "21  WCAG2AA.Principle4.Guideline4_1.4_1_2.H91.Butt...     15\n",
              "30  WCAG2AA.Principle4.Guideline4_1.4_1_2.H91.Inpu...     12\n",
              "17        WCAG2AA.Principle3.Guideline3_2.3_2_2.H32.2     11\n",
              "37  WCAG2AA.Principle4.Guideline4_1.4_1_2.H91.Text...      8\n",
              "29  WCAG2AA.Principle4.Guideline4_1.4_1_2.H91.Inpu...      8\n",
              "20  WCAG2AA.Principle4.Guideline4_1.4_1_2.H91.A.No...      6\n",
              "32  WCAG2AA.Principle4.Guideline4_1.4_1_2.H91.Inpu...      5\n",
              "22  WCAG2AA.Principle4.Guideline4_1.4_1_2.H91.Fiel...      4\n",
              "28  WCAG2AA.Principle4.Guideline4_1.4_1_2.H91.Inpu...      4\n",
              "9   WCAG2AA.Principle1.Guideline1_3.1_3_1.H71.NoLe...      4\n",
              "7   WCAG2AA.Principle1.Guideline1_3.1_3_1.H49.Alig...      4\n",
              "33  WCAG2AA.Principle4.Guideline4_1.4_1_2.H91.Inpu...      3\n",
              "0         WCAG2AA.Principle1.Guideline1_1.1_1_1.H30.2      3\n",
              "14  WCAG2AA.Principle2.Guideline2_4.2_4_2.H25.1.Em...      3\n",
              "23  WCAG2AA.Principle4.Guideline4_1.4_1_2.H91.Inpu...      2\n",
              "26  WCAG2AA.Principle4.Guideline4_1.4_1_2.H91.Inpu...      2\n",
              "10    WCAG2AA.Principle1.Guideline1_4.1_4_3.G145.Fail      2\n",
              "8    WCAG2AA.Principle1.Guideline1_3.1_3_1.H49.Center      2\n",
              "6   WCAG2AA.Principle1.Guideline1_3.1_3_1.H43.Head...      2\n",
              "5       WCAG2AA.Principle1.Guideline1_3.1_3_1.H43,H63      2\n",
              "34  WCAG2AA.Principle4.Guideline4_1.4_1_2.H91.Inpu...      2\n",
              "2         WCAG2AA.Principle1.Guideline1_1.1_1_1.H67.1      2\n",
              "19  WCAG2AA.Principle4.Guideline4_1.4_1_2.H91.A.Em...      2\n",
              "24  WCAG2AA.Principle4.Guideline4_1.4_1_2.H91.Inpu...      1\n",
              "25  WCAG2AA.Principle4.Guideline4_1.4_1_2.H91.Inpu...      1\n",
              "27  WCAG2AA.Principle4.Guideline4_1.4_1_2.H91.Inpu...      1\n",
              "13        WCAG2AA.Principle2.Guideline2_4.2_4_1.H64.1      1\n",
              "31  WCAG2AA.Principle4.Guideline4_1.4_1_2.H91.Inpu...      1\n",
              "4         WCAG2AA.Principle1.Guideline1_3.1_3_1.H42.2      1"
            ]
          },
          "execution_count": 7,
          "metadata": {},
          "output_type": "execute_result"
        }
      ],
      "source": [
        "dataCode_count"
      ]
    },
    {
      "cell_type": "code",
      "execution_count": 8,
      "metadata": {
        "id": "yftSnZFMRV7z"
      },
      "outputs": [
        {
          "data": {
            "text/plain": [
              "<matplotlib.legend.Legend at 0x7f0ad37803a0>"
            ]
          },
          "execution_count": 8,
          "metadata": {},
          "output_type": "execute_result"
        },
        {
          "data": {
            "image/png": "[encoded data removed]",
            "text/plain": [
              "<Figure size 720x360 with 1 Axes>"
            ]
          },
          "metadata": {
            "needs_background": "light"
          },
          "output_type": "display_data"
        }
      ],
      "source": [
        "import matplotlib as plot\n",
        "import matplotlib.pyplot as plt\n",
        "dataPrinciples_count.plot.bar(x='Princípio', alpha = .6, color = \"royalblue\", figsize=(10,5))\n",
        "plt.title(\"Princípios mais Violados\")\n",
        "plt.xlabel(\"Princípios\")\n",
        "plt.ylabel(\"Qtd de Violações\")\n",
        "plt.legend(dataPrinciples_count)"
      ]
    },
    {
      "cell_type": "code",
      "execution_count": 9,
      "metadata": {
        "id": "slwYjH1Kge65"
      },
      "outputs": [
        {
          "name": "stdout",
          "output_type": "stream",
          "text": [
            "\n",
            " Quartil: 0.25     2.00\n",
            "0.50     4.00\n",
            "0.75    14.25\n",
            "Name: code, dtype: float64\n",
            "\n",
            " Media:  4.0\n"
          ]
        },
        {
          "data": {
            "image/png": "[encoded data removed]",
            "text/plain": [
              "<Figure size 432x288 with 1 Axes>"
            ]
          },
          "metadata": {
            "needs_background": "light"
          },
          "output_type": "display_data"
        }
      ],
      "source": [
        "    quantidades = data['code'].value_counts()\n",
        "    quantidades.plot(kind=\"hist\")\n",
        "    print('\\n Quartil:',quantidades.quantile([0.25,0.5,0.75]))\n",
        "    print('\\n Media: ',quantidades.median())\n",
        "    plt.xlabel('Número de Violações')\n",
        "    plt.ylabel('Número de Snipets de Código')\n",
        "    plt.tight_layout()\n",
        "    plt.show()"
      ]
    },
    {
      "cell_type": "code",
      "execution_count": 30,
      "metadata": {
        "id": "3HRtowUDx5Qv"
      },
      "outputs": [
        {
          "name": "stdout",
          "output_type": "stream",
          "text": [
            "4.0\n"
          ]
        },
        {
          "data": {
            "image/png": "[encoded data removed]",
            "text/plain": [
              "<Figure size 576x432 with 1 Axes>"
            ]
          },
          "metadata": {
            "needs_background": "light"
          },
          "output_type": "display_data"
        }
      ],
      "source": [
        "import statistics\n",
        "databx = [138, 72, 68, 54, 38, 38, 37, 20, 18, 15, 12, 11, 8, 8, 6, 5, 4, 4, 4, 4, 3, 3, 3, 2, 2, 2, 2, 2, 2, 2, 2, 2, 1, 1, 1, 1, 1, 1]\n",
        "fig = plt.figure(figsize =(8, 6)) \n",
        "print (statistics.median(databx))\n",
        "plt.boxplot(databx)\n",
        "plt.show()"
      ]
    }
  ],
  "metadata": {
    "colab": {
      "name": "principlesCount.ipynb",
      "provenance": []
    },
    "kernelspec": {
      "display_name": "Python 3",
      "name": "python3"
    },
    "language_info": {
      "codemirror_mode": {
        "name": "ipython",
        "version": 3
      },
      "file_extension": ".py",
      "mimetype": "text/x-python",
      "name": "python",
      "nbconvert_exporter": "python",
      "pygments_lexer": "ipython3",
      "version": "3.8.10"
    }
  },
  "nbformat": 4,
  "nbformat_minor": 0
}
