{
 "cells": [
  {
   "cell_type": "code",
   "execution_count": 7,
   "metadata": {},
   "outputs": [],
   "source": [
    "import pandas as pd\n",
    "data = pd.read_csv('csv_final_diretrizes.csv')"
   ]
  },
  {
   "cell_type": "code",
   "execution_count": 8,
   "metadata": {},
   "outputs": [
    {
     "data": {
      "text/html": [
       "<div>\n",
       "<style scoped>\n",
       "    .dataframe tbody tr th:only-of-type {\n",
       "        vertical-align: middle;\n",
       "    }\n",
       "\n",
       "    .dataframe tbody tr th {\n",
       "        vertical-align: top;\n",
       "    }\n",
       "\n",
       "    .dataframe thead th {\n",
       "        text-align: right;\n",
       "    }\n",
       "</style>\n",
       "<table border=\"1\" class=\"dataframe\">\n",
       "  <thead>\n",
       "    <tr style=\"text-align: right;\">\n",
       "      <th></th>\n",
       "      <th>type</th>\n",
       "      <th>code</th>\n",
       "      <th>Princípio</th>\n",
       "      <th>message</th>\n",
       "      <th>context</th>\n",
       "      <th>selector\"</th>\n",
       "    </tr>\n",
       "  </thead>\n",
       "  <tbody>\n",
       "    <tr>\n",
       "      <th>0</th>\n",
       "      <td>error</td>\n",
       "      <td>2.4.2 - Página com título - A</td>\n",
       "      <td>Operável</td>\n",
       "      <td>A title should be provided for the document, u...</td>\n",
       "      <td>&lt;head&gt;&lt;style type=\\\"text/css\\\"&gt;\\n\\nbody {...&lt;/...</td>\n",
       "      <td>html &gt; head\"</td>\n",
       "    </tr>\n",
       "    <tr>\n",
       "      <th>1</th>\n",
       "      <td>error</td>\n",
       "      <td>3.1.1 - Idioma da página - A</td>\n",
       "      <td>Compreensível</td>\n",
       "      <td>The html element should have a lang or xml:lan...</td>\n",
       "      <td>&lt;html&gt;&lt;head&gt;&lt;style type=\\\"text/css\\\"&gt;\\n\\n...&lt;/...</td>\n",
       "      <td>html\"</td>\n",
       "    </tr>\n",
       "    <tr>\n",
       "      <th>2</th>\n",
       "      <td>error</td>\n",
       "      <td>2.4.2 - Página com título - A</td>\n",
       "      <td>Operável</td>\n",
       "      <td>A title should be provided for the document, u...</td>\n",
       "      <td>&lt;head&gt;\\n&lt;style&gt;\\ntable{\\n    height:100v...&lt;/h...</td>\n",
       "      <td>html &gt; head\"</td>\n",
       "    </tr>\n",
       "    <tr>\n",
       "      <th>3</th>\n",
       "      <td>error</td>\n",
       "      <td>3.1.1 - Idioma da página - A</td>\n",
       "      <td>Compreensível</td>\n",
       "      <td>The html element should have a lang or xml:lan...</td>\n",
       "      <td>&lt;html&gt;&lt;head&gt;\\n&lt;style&gt;\\ntable{\\n    heigh...&lt;/h...</td>\n",
       "      <td>html\"</td>\n",
       "    </tr>\n",
       "  </tbody>\n",
       "</table>\n",
       "</div>"
      ],
      "text/plain": [
       "    type                           code      Princípio  \\\n",
       "0  error  2.4.2 - Página com título - A       Operável   \n",
       "1  error   3.1.1 - Idioma da página - A  Compreensível   \n",
       "2  error  2.4.2 - Página com título - A       Operável   \n",
       "3  error   3.1.1 - Idioma da página - A  Compreensível   \n",
       "\n",
       "                                             message  \\\n",
       "0  A title should be provided for the document, u...   \n",
       "1  The html element should have a lang or xml:lan...   \n",
       "2  A title should be provided for the document, u...   \n",
       "3  The html element should have a lang or xml:lan...   \n",
       "\n",
       "                                             context     selector\"  \n",
       "0  <head><style type=\\\"text/css\\\">\\n\\nbody {...</...  html > head\"  \n",
       "1  <html><head><style type=\\\"text/css\\\">\\n\\n...</...         html\"  \n",
       "2  <head>\\n<style>\\ntable{\\n    height:100v...</h...  html > head\"  \n",
       "3  <html><head>\\n<style>\\ntable{\\n    heigh...</h...         html\"  "
      ]
     },
     "execution_count": 8,
     "metadata": {},
     "output_type": "execute_result"
    }
   ],
   "source": [
    "data.head(4)"
   ]
  },
  {
   "cell_type": "code",
   "execution_count": 31,
   "metadata": {},
   "outputs": [
    {
     "data": {
      "text/html": [
       "<div>\n",
       "<style scoped>\n",
       "    .dataframe tbody tr th:only-of-type {\n",
       "        vertical-align: middle;\n",
       "    }\n",
       "\n",
       "    .dataframe tbody tr th {\n",
       "        vertical-align: top;\n",
       "    }\n",
       "\n",
       "    .dataframe thead th {\n",
       "        text-align: right;\n",
       "    }\n",
       "</style>\n",
       "<table border=\"1\" class=\"dataframe\">\n",
       "  <thead>\n",
       "    <tr style=\"text-align: right;\">\n",
       "      <th></th>\n",
       "      <th>code</th>\n",
       "      <th>count</th>\n",
       "    </tr>\n",
       "  </thead>\n",
       "  <tbody>\n",
       "    <tr>\n",
       "      <th>5</th>\n",
       "      <td>2.4.2 - Página com título - A</td>\n",
       "      <td>141</td>\n",
       "    </tr>\n",
       "    <tr>\n",
       "      <th>10</th>\n",
       "      <td>4.1.2 - Nome, função, valor - A</td>\n",
       "      <td>117</td>\n",
       "    </tr>\n",
       "    <tr>\n",
       "      <th>0</th>\n",
       "      <td>1.1.1 - Conteúdo não textual - A</td>\n",
       "      <td>77</td>\n",
       "    </tr>\n",
       "    <tr>\n",
       "      <th>1</th>\n",
       "      <td>1.3.1 - Informações e Relações  - A</td>\n",
       "      <td>74</td>\n",
       "    </tr>\n",
       "    <tr>\n",
       "      <th>6</th>\n",
       "      <td>3.1.1 - Idioma da página - A</td>\n",
       "      <td>54</td>\n",
       "    </tr>\n",
       "    <tr>\n",
       "      <th>3</th>\n",
       "      <td>1.4.3 - Contraste Mínimo - AA</td>\n",
       "      <td>40</td>\n",
       "    </tr>\n",
       "    <tr>\n",
       "      <th>8</th>\n",
       "      <td>4.1.1 - Análise - A</td>\n",
       "      <td>38</td>\n",
       "    </tr>\n",
       "    <tr>\n",
       "      <th>4</th>\n",
       "      <td>2.4.1 - Ignorar blocos - A</td>\n",
       "      <td>21</td>\n",
       "    </tr>\n",
       "    <tr>\n",
       "      <th>9</th>\n",
       "      <td>4.1.2 - Nome, função, valor  - A</td>\n",
       "      <td>15</td>\n",
       "    </tr>\n",
       "    <tr>\n",
       "      <th>7</th>\n",
       "      <td>3.2.2 - Em entrada - A</td>\n",
       "      <td>11</td>\n",
       "    </tr>\n",
       "    <tr>\n",
       "      <th>2</th>\n",
       "      <td>1.3.1 - Informações e Relações - A</td>\n",
       "      <td>9</td>\n",
       "    </tr>\n",
       "  </tbody>\n",
       "</table>\n",
       "</div>"
      ],
      "text/plain": [
       "                                   code  count\n",
       "5         2.4.2 - Página com título - A    141\n",
       "10      4.1.2 - Nome, função, valor - A    117\n",
       "0      1.1.1 - Conteúdo não textual - A     77\n",
       "1   1.3.1 - Informações e Relações  - A     74\n",
       "6          3.1.1 - Idioma da página - A     54\n",
       "3         1.4.3 - Contraste Mínimo - AA     40\n",
       "8                   4.1.1 - Análise - A     38\n",
       "4            2.4.1 - Ignorar blocos - A     21\n",
       "9      4.1.2 - Nome, função, valor  - A     15\n",
       "7                3.2.2 - Em entrada - A     11\n",
       "2    1.3.1 - Informações e Relações - A      9"
      ]
     },
     "execution_count": 31,
     "metadata": {},
     "output_type": "execute_result"
    }
   ],
   "source": [
    "###AGRUPAMENTO POR 'CODE' / DIRETRIZES\n",
    "data_count = (\n",
    "    data\n",
    "    .groupby('code')\n",
    "    .size()\n",
    "    .reset_index(name='count')\n",
    "    .sort_values(by=['count'], ascending=False)\n",
    ")\n",
    "data_count"
   ]
  },
  {
   "cell_type": "code",
   "execution_count": 19,
   "metadata": {},
   "outputs": [
    {
     "data": {
      "text/plain": [
       "<matplotlib.legend.Legend at 0x7f522b647a30>"
      ]
     },
     "execution_count": 19,
     "metadata": {},
     "output_type": "execute_result"
    },
    {
     "data": {
      "image/png": "[encoded data removed]",
      "text/plain": [
       "<Figure size 720x576 with 1 Axes>"
      ]
     },
     "metadata": {
      "needs_background": "light"
     },
     "output_type": "display_data"
    }
   ],
   "source": [
    "import matplotlib as plot\n",
    "import matplotlib.pyplot as plt\n",
    "\n",
    "##CALCULAR SAÍDA DE VIOLAÇÕES DE DIRETRIZES\n",
    "\n",
    "data_count.plot.barh(x='code', ec = \"k\", alpha = .6, color = \"royalblue\", figsize = (10, 8))\n",
    "plt.title(\"Quantidade de Diretrizes Violadas\")\n",
    "plt.xlabel(\"Quantidade\")\n",
    "plt.ylabel(\"Diretrizes\")\n",
    "plt.legend('')"
   ]
  },
  {
   "cell_type": "code",
   "execution_count": 20,
   "metadata": {},
   "outputs": [
    {
     "name": "stdout",
     "output_type": "stream",
     "text": [
      "40\n"
     ]
    },
    {
     "data": {
      "image/png": "[encoded data removed]",
      "text/plain": [
       "<Figure size 720x504 with 1 Axes>"
      ]
     },
     "metadata": {
      "needs_background": "light"
     },
     "output_type": "display_data"
    }
   ],
   "source": [
    "import statistics\n",
    "\n",
    "###CALCULA MEDIANA DE VIOLAÇÕES POR QUARTIL \n",
    "\n",
    "databx = [141, 117, 77, 74, 54, 40, 38, 21, 15, 11, 9]\n",
    "fig = plt.figure(figsize =(10, 7)) \n",
    "print (statistics.median(databx))\n",
    "plt.boxplot(databx)\n",
    "plt.show()"
   ]
  },
  {
   "cell_type": "code",
   "execution_count": 25,
   "metadata": {},
   "outputs": [
    {
     "data": {
      "text/html": [
       "<div>\n",
       "<style scoped>\n",
       "    .dataframe tbody tr th:only-of-type {\n",
       "        vertical-align: middle;\n",
       "    }\n",
       "\n",
       "    .dataframe tbody tr th {\n",
       "        vertical-align: top;\n",
       "    }\n",
       "\n",
       "    .dataframe thead th {\n",
       "        text-align: right;\n",
       "    }\n",
       "</style>\n",
       "<table border=\"1\" class=\"dataframe\">\n",
       "  <thead>\n",
       "    <tr style=\"text-align: right;\">\n",
       "      <th></th>\n",
       "      <th>Princípio</th>\n",
       "      <th>count</th>\n",
       "    </tr>\n",
       "  </thead>\n",
       "  <tbody>\n",
       "    <tr>\n",
       "      <th>2</th>\n",
       "      <td>Perceptível</td>\n",
       "      <td>198</td>\n",
       "    </tr>\n",
       "    <tr>\n",
       "      <th>3</th>\n",
       "      <td>Robustez</td>\n",
       "      <td>170</td>\n",
       "    </tr>\n",
       "    <tr>\n",
       "      <th>1</th>\n",
       "      <td>Operável</td>\n",
       "      <td>164</td>\n",
       "    </tr>\n",
       "    <tr>\n",
       "      <th>0</th>\n",
       "      <td>Compreensível</td>\n",
       "      <td>65</td>\n",
       "    </tr>\n",
       "  </tbody>\n",
       "</table>\n",
       "</div>"
      ],
      "text/plain": [
       "       Princípio  count\n",
       "2    Perceptível    198\n",
       "3       Robustez    170\n",
       "1       Operável    164\n",
       "0  Compreensível     65"
      ]
     },
     "execution_count": 25,
     "metadata": {},
     "output_type": "execute_result"
    }
   ],
   "source": [
    "###AGRUPAMENTO POR PRINCÍPIOS\n",
    "\n",
    "dataPrinciples_count = (\n",
    "    data\n",
    "    .groupby('Princípio')\n",
    "    .size()\n",
    "    .reset_index(name='count')\n",
    "    .sort_values(by=['count'], ascending=False)\n",
    ")\n",
    "dataPrinciples_count"
   ]
  },
  {
   "cell_type": "code",
   "execution_count": 28,
   "metadata": {},
   "outputs": [
    {
     "data": {
      "text/plain": [
       "149.25"
      ]
     },
     "execution_count": 28,
     "metadata": {},
     "output_type": "execute_result"
    }
   ],
   "source": [
    "import statistics as st\n",
    "##MEDIA DE VIOLAÇÕES DE PRINCÍPIOS POR SNIPPET\n",
    "data_media = [198, 170, 164, 65]\n",
    "st.mean(data_media)"
   ]
  },
  {
   "cell_type": "code",
   "execution_count": 49,
   "metadata": {},
   "outputs": [
    {
     "name": "stdout",
     "output_type": "stream",
     "text": [
      "Porcentagem de violação por Perceptivel: 27.470686767169177 %\n"
     ]
    }
   ],
   "source": [
    "###PORCENTAGEM DE VIOLAÇÕES POR PRINCÍPIOS\n",
    "\n",
    "def main():\n",
    "  violacaoTotal = 597.0\n",
    "  principio = 164.0\n",
    "  \n",
    "  print(\"Porcentagem de violação por Perceptivel:\", \n",
    "    ((principio / violacaoTotal) * 100) ,\"%\")\n",
    "  \n",
    "     \n",
    "if __name__== \"__main__\":\n",
    "  main()"
   ]
  },
  {
   "cell_type": "code",
   "execution_count": 71,
   "metadata": {},
   "outputs": [
    {
     "name": "stdout",
     "output_type": "stream",
     "text": [
      " Perceptível : 33.17 %\n",
      " Robustez : 28.48 %\n",
      " Operável : 27.47 %\n",
      " Compreensível : 10.89 %\n"
     ]
    }
   ],
   "source": [
    "###CALCULAR PORCENTAGEM DE PPRINCIPIOS\n",
    "\n",
    "principiosList = ['Perceptível', 'Robustez', 'Operável', 'Compreensível']\n",
    "for i in range(len(principiosList)):\n",
    "    resultadosPrincipios = [198, 170, 164, 65]\n",
    "    for j in range(len(resultadosPrincipios)):\n",
    "        totalViolacoes = 597            ##Mudar total de violações caso altere resultado\n",
    "        resultadosPrincipios[j] = (resultadosPrincipios[j]/totalViolacoes)*100 \n",
    "    print(\"\", principiosList[i], \": {:.2f}\".format(resultadosPrincipios[i]), \"%\")"
   ]
  },
  {
   "cell_type": "code",
   "execution_count": 30,
   "metadata": {},
   "outputs": [
    {
     "data": {
      "text/plain": [
       "<matplotlib.legend.Legend at 0x7f522d201d30>"
      ]
     },
     "execution_count": 30,
     "metadata": {},
     "output_type": "execute_result"
    },
    {
     "data": {
      "image/png": "[encoded data removed]",
      "text/plain": [
       "<Figure size 720x360 with 1 Axes>"
      ]
     },
     "metadata": {
      "needs_background": "light"
     },
     "output_type": "display_data"
    }
   ],
   "source": [
    "import matplotlib as plot\n",
    "import matplotlib.pyplot as plt\n",
    "\n",
    "###PLOTAR RESULTADOS POR PRINCÍPIOS\n",
    "\n",
    "dataPrinciples_count.plot.bar(x='Princípio', alpha = .6, color = \"royalblue\", figsize=(10,5))\n",
    "plt.title(\"Princípios mais Violados\")\n",
    "plt.xlabel(\"Princípios\")\n",
    "plt.ylabel(\"Qtd de Violações\")\n",
    "plt.legend(dataPrinciples_count)"
   ]
  },
  {
   "cell_type": "code",
   "execution_count": 12,
   "metadata": {},
   "outputs": [],
   "source": [
    "total_snippet = 206\n"
   ]
  }
 ],
 "metadata": {
  "interpreter": {
   "hash": "916dbcbb3f70747c44a77c7bcd40155683ae19c65e1c03b4aa3499c5328201f1"
  },
  "kernelspec": {
   "display_name": "Python 3.8.10 64-bit",
   "language": "python",
   "name": "python3"
  },
  "language_info": {
   "codemirror_mode": {
    "name": "ipython",
    "version": 3
   },
   "file_extension": ".py",
   "mimetype": "text/x-python",
   "name": "python",
   "nbconvert_exporter": "python",
   "pygments_lexer": "ipython3",
   "version": "3.8.10"
  },
  "orig_nbformat": 4
 },
 "nbformat": 4,
 "nbformat_minor": 2
}
