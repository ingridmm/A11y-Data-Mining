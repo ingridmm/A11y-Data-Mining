{
 "cells": [
  {
   "cell_type": "code",
   "execution_count": 8,
   "metadata": {},
   "outputs": [],
   "source": [
    "import pandas as pd\n",
    "data = pd.read_csv('csv_final.csv')"
   ]
  },
  {
   "cell_type": "code",
   "execution_count": 9,
   "metadata": {},
   "outputs": [
    {
     "data": {
      "text/html": [
       "<div>\n",
       "<style scoped>\n",
       "    .dataframe tbody tr th:only-of-type {\n",
       "        vertical-align: middle;\n",
       "    }\n",
       "\n",
       "    .dataframe tbody tr th {\n",
       "        vertical-align: top;\n",
       "    }\n",
       "\n",
       "    .dataframe thead th {\n",
       "        text-align: right;\n",
       "    }\n",
       "</style>\n",
       "<table border=\"1\" class=\"dataframe\">\n",
       "  <thead>\n",
       "    <tr style=\"text-align: right;\">\n",
       "      <th></th>\n",
       "      <th>type</th>\n",
       "      <th>code</th>\n",
       "      <th>message</th>\n",
       "      <th>context</th>\n",
       "      <th>selector</th>\n",
       "    </tr>\n",
       "  </thead>\n",
       "  <tbody>\n",
       "    <tr>\n",
       "      <th>0</th>\n",
       "      <td>error</td>\n",
       "      <td>WCAG2AA.Principle2.Guideline2_4.2_4_2.H25.1.No...</td>\n",
       "      <td>A title should be provided for the document, u...</td>\n",
       "      <td>&lt;head&gt; &lt;script type=\\text/javascript\\\"...&lt;/head&gt;\"</td>\n",
       "      <td>html &gt; head</td>\n",
       "    </tr>\n",
       "    <tr>\n",
       "      <th>1</th>\n",
       "      <td>error</td>\n",
       "      <td>WCAG2AA.Principle2.Guideline2_4.2_4_2.H25.1.No...</td>\n",
       "      <td>A title should be provided for the document, u...</td>\n",
       "      <td>&lt;head&gt; &lt;script type=\\text/javascript\\\"...&lt;/head&gt;\"</td>\n",
       "      <td>html &gt; head</td>\n",
       "    </tr>\n",
       "    <tr>\n",
       "      <th>2</th>\n",
       "      <td>error</td>\n",
       "      <td>WCAG2AA.Principle1.Guideline1_1.1_1_1.H37</td>\n",
       "      <td>Img element missing an alt attribute. Use the ...</td>\n",
       "      <td>&lt;img src=\\imagem.jpg\\\"&gt;\"</td>\n",
       "      <td>html &gt; body &gt; img</td>\n",
       "    </tr>\n",
       "    <tr>\n",
       "      <th>3</th>\n",
       "      <td>error</td>\n",
       "      <td>WCAG2AA.Principle3.Guideline3_1.3_1_1.H57.2</td>\n",
       "      <td>The html element should have a lang or xml:lan...</td>\n",
       "      <td>&lt;html&gt;&lt;head&gt;\\n&lt;title&gt;Home&lt;/title&gt;\\n&lt;sty...&lt;/html&gt;</td>\n",
       "      <td>html</td>\n",
       "    </tr>\n",
       "  </tbody>\n",
       "</table>\n",
       "</div>"
      ],
      "text/plain": [
       "    type                                               code  \\\n",
       "0  error  WCAG2AA.Principle2.Guideline2_4.2_4_2.H25.1.No...   \n",
       "1  error  WCAG2AA.Principle2.Guideline2_4.2_4_2.H25.1.No...   \n",
       "2  error          WCAG2AA.Principle1.Guideline1_1.1_1_1.H37   \n",
       "3  error        WCAG2AA.Principle3.Guideline3_1.3_1_1.H57.2   \n",
       "\n",
       "                                             message  \\\n",
       "0  A title should be provided for the document, u...   \n",
       "1  A title should be provided for the document, u...   \n",
       "2  Img element missing an alt attribute. Use the ...   \n",
       "3  The html element should have a lang or xml:lan...   \n",
       "\n",
       "                                             context           selector  \n",
       "0  <head> <script type=\\text/javascript\\\"...</head>\"        html > head  \n",
       "1  <head> <script type=\\text/javascript\\\"...</head>\"        html > head  \n",
       "2                           <img src=\\imagem.jpg\\\">\"  html > body > img  \n",
       "3  <html><head>\\n<title>Home</title>\\n<sty...</html>               html  "
      ]
     },
     "execution_count": 9,
     "metadata": {},
     "output_type": "execute_result"
    }
   ],
   "source": [
    "data.head(4)"
   ]
  },
  {
   "cell_type": "code",
   "execution_count": 12,
   "metadata": {},
   "outputs": [],
   "source": [
    "data_count = (\n",
    "    data\n",
    "    .groupby('code')\n",
    "    .size()\n",
    "    .reset_index(name='count')\n",
    "    .sort_values(by=['count'], ascending=False)\n",
    ")\n"
   ]
  },
  {
   "cell_type": "code",
   "execution_count": 13,
   "metadata": {},
   "outputs": [
    {
     "data": {
      "text/html": [
       "<div>\n",
       "<style scoped>\n",
       "    .dataframe tbody tr th:only-of-type {\n",
       "        vertical-align: middle;\n",
       "    }\n",
       "\n",
       "    .dataframe tbody tr th {\n",
       "        vertical-align: top;\n",
       "    }\n",
       "\n",
       "    .dataframe thead th {\n",
       "        text-align: right;\n",
       "    }\n",
       "</style>\n",
       "<table border=\"1\" class=\"dataframe\">\n",
       "  <thead>\n",
       "    <tr style=\"text-align: right;\">\n",
       "      <th></th>\n",
       "      <th>code</th>\n",
       "      <th>count</th>\n",
       "    </tr>\n",
       "  </thead>\n",
       "  <tbody>\n",
       "    <tr>\n",
       "      <th>3</th>\n",
       "      <td>WCAG2AA.Principle1.Guideline1_3.1_3_1.H49.Alig...</td>\n",
       "      <td>4</td>\n",
       "    </tr>\n",
       "    <tr>\n",
       "      <th>5</th>\n",
       "      <td>WCAG2AA.Principle3.Guideline3_1.3_1_1.H57.2</td>\n",
       "      <td>3</td>\n",
       "    </tr>\n",
       "    <tr>\n",
       "      <th>1</th>\n",
       "      <td>WCAG2AA.Principle1.Guideline1_3.1_3_1.F68</td>\n",
       "      <td>2</td>\n",
       "    </tr>\n",
       "    <tr>\n",
       "      <th>4</th>\n",
       "      <td>WCAG2AA.Principle2.Guideline2_4.2_4_2.H25.1.No...</td>\n",
       "      <td>2</td>\n",
       "    </tr>\n",
       "    <tr>\n",
       "      <th>6</th>\n",
       "      <td>WCAG2AA.Principle4.Guideline4_1.4_1_2.H91.Inpu...</td>\n",
       "      <td>2</td>\n",
       "    </tr>\n",
       "    <tr>\n",
       "      <th>0</th>\n",
       "      <td>WCAG2AA.Principle1.Guideline1_1.1_1_1.H37</td>\n",
       "      <td>1</td>\n",
       "    </tr>\n",
       "    <tr>\n",
       "      <th>2</th>\n",
       "      <td>WCAG2AA.Principle1.Guideline1_3.1_3_1.H43.Head...</td>\n",
       "      <td>1</td>\n",
       "    </tr>\n",
       "  </tbody>\n",
       "</table>\n",
       "</div>"
      ],
      "text/plain": [
       "                                                code  count\n",
       "3  WCAG2AA.Principle1.Guideline1_3.1_3_1.H49.Alig...      4\n",
       "5        WCAG2AA.Principle3.Guideline3_1.3_1_1.H57.2      3\n",
       "1          WCAG2AA.Principle1.Guideline1_3.1_3_1.F68      2\n",
       "4  WCAG2AA.Principle2.Guideline2_4.2_4_2.H25.1.No...      2\n",
       "6  WCAG2AA.Principle4.Guideline4_1.4_1_2.H91.Inpu...      2\n",
       "0          WCAG2AA.Principle1.Guideline1_1.1_1_1.H37      1\n",
       "2  WCAG2AA.Principle1.Guideline1_3.1_3_1.H43.Head...      1"
      ]
     },
     "execution_count": 13,
     "metadata": {},
     "output_type": "execute_result"
    }
   ],
   "source": [
    "data_count"
   ]
  },
  {
   "cell_type": "code",
   "execution_count": 16,
   "metadata": {},
   "outputs": [
    {
     "data": {
      "text/plain": [
       "<AxesSubplot:xlabel='code'>"
      ]
     },
     "execution_count": 16,
     "metadata": {},
     "output_type": "execute_result"
    },
    {
     "data": {
      "image/png": "[encoded data removed]",
      "text/plain": [
       "<Figure size 432x288 with 1 Axes>"
      ]
     },
     "metadata": {
      "needs_background": "light"
     },
     "output_type": "display_data"
    }
   ],
   "source": [
    "data_count.plot.bar(x='code')"
   ]
  }
 ],
 "metadata": {
  "interpreter": {
   "hash": "916dbcbb3f70747c44a77c7bcd40155683ae19c65e1c03b4aa3499c5328201f1"
  },
  "kernelspec": {
   "display_name": "Python 3.8.10 64-bit",
   "language": "python",
   "name": "python3"
  },
  "language_info": {
   "codemirror_mode": {
    "name": "ipython",
    "version": 3
   },
   "file_extension": ".py",
   "mimetype": "text/x-python",
   "name": "python",
   "nbconvert_exporter": "python",
   "pygments_lexer": "ipython3",
   "version": "3.8.10"
  },
  "orig_nbformat": 4
 },
 "nbformat": 4,
 "nbformat_minor": 2
}
